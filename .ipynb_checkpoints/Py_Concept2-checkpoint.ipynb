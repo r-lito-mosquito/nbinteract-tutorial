{
 "cells": [
  {
   "cell_type": "markdown",
   "metadata": {
    "extensions": {
     "jupyter_dashboards": {
      "version": 1,
      "views": {
       "grid_default": {},
       "report_default": {
        "hidden": false
       }
      }
     }
    }
   },
   "source": [
    "# Pandas Project - Proof of Concept"
   ]
  },
  {
   "cell_type": "code",
   "execution_count": 1,
   "metadata": {
    "extensions": {
     "jupyter_dashboards": {
      "version": 1,
      "views": {
       "grid_default": {},
       "report_default": {
        "hidden": true
       }
      }
     }
    }
   },
   "outputs": [],
   "source": [
    "import pandas as pd\n",
    "import numpy as np\n",
    "import matplotlib.pyplot as py\n",
    "import os\n",
    "from pathlib import Path\n",
    "from IPython.display import clear_output\n",
    "from IPython.core.interactiveshell import InteractiveShell\n",
    "InteractiveShell.ast_node_interactivity = \"all\"\n"
   ]
  },
  {
   "cell_type": "code",
   "execution_count": 2,
   "metadata": {
    "extensions": {
     "jupyter_dashboards": {
      "version": 1,
      "views": {
       "grid_default": {},
       "report_default": {
        "hidden": true
       }
      }
     }
    }
   },
   "outputs": [],
   "source": [
    "#add-in for the interactive widgets\n",
    "import ipywidgets as widgets\n",
    "from ipywidgets import interact, interact_manual, Output"
   ]
  },
  {
   "cell_type": "code",
   "execution_count": 3,
   "metadata": {
    "extensions": {
     "jupyter_dashboards": {
      "version": 1,
      "views": {
       "grid_default": {},
       "report_default": {
        "hidden": true
       }
      }
     }
    }
   },
   "outputs": [],
   "source": [
    "#Create Path for Python to find file\n",
    "db_folder = Path(\"Y:\\\\Performance\\Pandas Project\\\\\")\n",
    "db_file = db_folder / \"BD_File.csv\"\n"
   ]
  },
  {
   "cell_type": "code",
   "execution_count": 4,
   "metadata": {
    "extensions": {
     "jupyter_dashboards": {
      "version": 1,
      "views": {
       "grid_default": {},
       "report_default": {
        "hidden": true
       }
      }
     }
    }
   },
   "outputs": [],
   "source": [
    "#Load Portfolio Ops BD file into PANDAS\n",
    "df = pd.read_csv(db_file, encoding='latin-1')"
   ]
  },
  {
   "cell_type": "code",
   "execution_count": 5,
   "metadata": {
    "extensions": {
     "jupyter_dashboards": {
      "version": 1,
      "views": {
       "grid_default": {},
       "report_default": {
        "hidden": true
       }
      }
     }
    }
   },
   "outputs": [],
   "source": [
    "#Asset Allocations\n",
    "assetAllocation = df.loc[df['Fund Code'] == 'CIG6852',['Fund Name', 'Asset mix Level3','Asset mix Level2', 'Asset mix Level1', \n",
    "                                                       'Mkt Value Pct' ]]\n",
    "\n",
    "AssetMix1 = assetAllocation.groupby(['Asset mix Level1'])['Mkt Value Pct'].sum().to_frame().round(2)\n",
    "AssetMix2 = assetAllocation.groupby(['Asset mix Level2'])['Mkt Value Pct'].sum().to_frame().round(2)\n",
    "AssetMix3 = assetAllocation.groupby(['Asset mix Level3'])['Mkt Value Pct'].sum().to_frame().round(2)"
   ]
  },
  {
   "cell_type": "code",
   "execution_count": 6,
   "metadata": {},
   "outputs": [
    {
     "data": {
      "application/vnd.jupyter.widget-view+json": {
       "model_id": "92b90337be5a47cbb5c8c97661e51308",
       "version_major": 2,
       "version_minor": 0
      },
      "text/plain": [
       "VBox(children=(ToggleButtons(options=('Asset mix Level1', 'Asset mix Level2', 'Asset mix Level3'), value='Asse…"
      ]
     },
     "metadata": {},
     "output_type": "display_data"
    }
   ],
   "source": [
    "assetMixSelect = widgets.ToggleButtons(options=['Asset mix Level1', 'Asset mix Level2', 'Asset mix Level3'],\n",
    "                                        describtion='Asset Mix: ')\n",
    "out = widgets.Output()\n",
    "\n",
    "\n",
    "def AssetMixSelect_handler(*args):\n",
    "    with out:\n",
    "        clear_output()\n",
    "        if assetMixSelect.value== 'Asset mix Level1':\n",
    "            display(AssetMix1)\n",
    "        elif assetMixSelect.value== 'Asset mix Level2':\n",
    "            display(AssetMix2)\n",
    "        elif assetMixSelect.value== 'Asset mix Level3':\n",
    "            display(AssetMix3)\n",
    "\n",
    "\n",
    "assetMixSelect.observe(AssetMixSelect_handler, 'value')\n",
    "\n",
    "\n",
    "widgets.VBox([assetMixSelect, out])\n"
   ]
  }
 ],
 "metadata": {
  "extensions": {
   "jupyter_dashboards": {
    "activeView": "grid_default",
    "version": 1,
    "views": {
     "grid_default": {
      "cellMargin": 10,
      "defaultCellHeight": 20,
      "maxColumns": 12,
      "name": "grid",
      "type": "grid"
     },
     "report_default": {
      "name": "report",
      "type": "report"
     }
    }
   }
  },
  "kernelspec": {
   "display_name": "Python 3",
   "language": "python",
   "name": "python3"
  },
  "language_info": {
   "codemirror_mode": {
    "name": "ipython",
    "version": 3
   },
   "file_extension": ".py",
   "mimetype": "text/x-python",
   "name": "python",
   "nbconvert_exporter": "python",
   "pygments_lexer": "ipython3",
   "version": "3.7.3"
  },
  "widgets": {
   "application/vnd.jupyter.widget-state+json": {
    "state": {
     "0d92a05851964a2481510f9493664f05": {
      "model_module": "@jupyter-widgets/output",
      "model_module_version": "1.0.0",
      "model_name": "OutputModel",
      "state": {
       "layout": "IPY_MODEL_6156c961d19040f89f00358ac928ca77",
       "outputs": [
        {
         "data": {
          "text/html": "<div>\n<style scoped>\n    .dataframe tbody tr th:only-of-type {\n        vertical-align: middle;\n    }\n\n    .dataframe tbody tr th {\n        vertical-align: top;\n    }\n\n    .dataframe thead th {\n        text-align: right;\n    }\n</style>\n<table border=\"1\" class=\"dataframe\">\n  <thead>\n    <tr style=\"text-align: right;\">\n      <th></th>\n      <th>Mkt Value Pct</th>\n    </tr>\n    <tr>\n      <th>Asset mix Level1</th>\n      <th></th>\n    </tr>\n  </thead>\n  <tbody>\n    <tr>\n      <th>Cash and Equivalents</th>\n      <td>9.44</td>\n    </tr>\n    <tr>\n      <th>Derivatives</th>\n      <td>-0.03</td>\n    </tr>\n    <tr>\n      <th>Fixed Income</th>\n      <td>31.96</td>\n    </tr>\n    <tr>\n      <th>Other</th>\n      <td>0.00</td>\n    </tr>\n    <tr>\n      <th>Total Equity</th>\n      <td>58.64</td>\n    </tr>\n  </tbody>\n</table>\n</div>",
          "text/plain": "                      Mkt Value Pct\nAsset mix Level1                   \nCash and Equivalents           9.44\nDerivatives                   -0.03\nFixed Income                  31.96\nOther                          0.00\nTotal Equity                  58.64"
         },
         "metadata": {},
         "output_type": "display_data"
        }
       ]
      }
     },
     "18b7775880b1468cac84ed0a995c8cb2": {
      "model_module": "@jupyter-widgets/base",
      "model_module_version": "1.1.0",
      "model_name": "LayoutModel",
      "state": {}
     },
     "36be8e16cc664d60a3d8f4dfe07deb8c": {
      "model_module": "@jupyter-widgets/controls",
      "model_module_version": "1.4.0",
      "model_name": "ToggleButtonsModel",
      "state": {
       "_options_labels": [
        "Asset mix Level1",
        "Asset mix Level2",
        "Asset mix Level3"
       ],
       "button_style": "",
       "icons": [],
       "index": 0,
       "layout": "IPY_MODEL_eeaf11ed4f91486db2e0b3f1e993834c",
       "style": "IPY_MODEL_e214fe4940d44ed5a2e5b7c80bd4e60f",
       "tooltips": []
      }
     },
     "3bdc4f0455974ec28e2e94078c017173": {
      "model_module": "@jupyter-widgets/controls",
      "model_module_version": "1.4.0",
      "model_name": "ToggleButtonsStyleModel",
      "state": {
       "button_width": "",
       "description_width": ""
      }
     },
     "414b52944dd942608184ce30f483e6e7": {
      "model_module": "@jupyter-widgets/controls",
      "model_module_version": "1.4.0",
      "model_name": "VBoxModel",
      "state": {
       "children": [
        "IPY_MODEL_f7c895bc940e4167b381542a1f515f9f",
        "IPY_MODEL_e10879e0a840448895350b7951f385ba"
       ],
       "layout": "IPY_MODEL_18b7775880b1468cac84ed0a995c8cb2"
      }
     },
     "529089ec87584a9f86faec98651572a9": {
      "model_module": "@jupyter-widgets/controls",
      "model_module_version": "1.4.0",
      "model_name": "VBoxModel",
      "state": {
       "children": [
        "IPY_MODEL_36be8e16cc664d60a3d8f4dfe07deb8c",
        "IPY_MODEL_0d92a05851964a2481510f9493664f05"
       ],
       "layout": "IPY_MODEL_e36d61a8a95e4e6cb64f0f19bdb77077"
      }
     },
     "550d1b5d20804d76a6f09fa97790ff5e": {
      "model_module": "@jupyter-widgets/base",
      "model_module_version": "1.1.0",
      "model_name": "LayoutModel",
      "state": {}
     },
     "6156c961d19040f89f00358ac928ca77": {
      "model_module": "@jupyter-widgets/base",
      "model_module_version": "1.1.0",
      "model_name": "LayoutModel",
      "state": {}
     },
     "83eb4b898aae4e638a4882753232d771": {
      "model_module": "@jupyter-widgets/base",
      "model_module_version": "1.1.0",
      "model_name": "LayoutModel",
      "state": {}
     },
     "e10879e0a840448895350b7951f385ba": {
      "model_module": "@jupyter-widgets/output",
      "model_module_version": "1.0.0",
      "model_name": "OutputModel",
      "state": {
       "layout": "IPY_MODEL_550d1b5d20804d76a6f09fa97790ff5e"
      }
     },
     "e214fe4940d44ed5a2e5b7c80bd4e60f": {
      "model_module": "@jupyter-widgets/controls",
      "model_module_version": "1.4.0",
      "model_name": "ToggleButtonsStyleModel",
      "state": {
       "button_width": "",
       "description_width": ""
      }
     },
     "e36d61a8a95e4e6cb64f0f19bdb77077": {
      "model_module": "@jupyter-widgets/base",
      "model_module_version": "1.1.0",
      "model_name": "LayoutModel",
      "state": {}
     },
     "eeaf11ed4f91486db2e0b3f1e993834c": {
      "model_module": "@jupyter-widgets/base",
      "model_module_version": "1.1.0",
      "model_name": "LayoutModel",
      "state": {}
     },
     "f7c895bc940e4167b381542a1f515f9f": {
      "model_module": "@jupyter-widgets/controls",
      "model_module_version": "1.4.0",
      "model_name": "ToggleButtonsModel",
      "state": {
       "_options_labels": [
        "Asset mix Level1",
        "Asset mix Level2",
        "Asset mix Level3"
       ],
       "button_style": "",
       "icons": [],
       "index": 0,
       "layout": "IPY_MODEL_83eb4b898aae4e638a4882753232d771",
       "style": "IPY_MODEL_3bdc4f0455974ec28e2e94078c017173",
       "tooltips": []
      }
     }
    },
    "version_major": 2,
    "version_minor": 0
   }
  }
 },
 "nbformat": 4,
 "nbformat_minor": 2
}
